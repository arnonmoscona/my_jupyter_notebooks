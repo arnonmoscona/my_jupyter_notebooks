{
 "cells": [
  {
   "cell_type": "code",
   "execution_count": 63,
   "metadata": {},
   "outputs": [
    {
     "data": {
      "text/html": [
       "<div>\n",
       "<style scoped>\n",
       "    .dataframe tbody tr th:only-of-type {\n",
       "        vertical-align: middle;\n",
       "    }\n",
       "\n",
       "    .dataframe tbody tr th {\n",
       "        vertical-align: top;\n",
       "    }\n",
       "\n",
       "    .dataframe thead th {\n",
       "        text-align: right;\n",
       "    }\n",
       "</style>\n",
       "<table border=\"1\" class=\"dataframe\">\n",
       "  <thead>\n",
       "    <tr style=\"text-align: right;\">\n",
       "      <th></th>\n",
       "      <th>col1</th>\n",
       "      <th>col2</th>\n",
       "    </tr>\n",
       "  </thead>\n",
       "  <tbody>\n",
       "    <tr>\n",
       "      <th>r1</th>\n",
       "      <td>2</td>\n",
       "      <td>6</td>\n",
       "    </tr>\n",
       "    <tr>\n",
       "      <th>r2</th>\n",
       "      <td>4</td>\n",
       "      <td>8</td>\n",
       "    </tr>\n",
       "  </tbody>\n",
       "</table>\n",
       "</div>"
      ],
      "text/plain": [
       "    col1  col2\n",
       "r1     2     6\n",
       "r2     4     8"
      ]
     },
     "execution_count": 63,
     "metadata": {},
     "output_type": "execute_result"
    }
   ],
   "source": [
    "%matplotlib inline\n",
    "import numpy as np\n",
    "import matplotlib.pyplot as plt\n",
    "import pandas as pd\n",
    "import seaborn as sns\n",
    "import statsmodels as sm\n",
    "\n",
    "from pandas import Series, DataFrame\n",
    "\n",
    "# series\n",
    "series1 = pd.Series([7,8,9,1])\n",
    "series2 = pd.Series([7,8,9,1],['label1','label2','label3','label4']) \n",
    "series3 = pd.Series([0,1,2,3],['label3','label2','label1','label4']) \n",
    "# index entries must match in count but don't require uniqueness\n",
    "series2['label1']\n",
    "series_from_dict = pd.Series({'a':1, 'b': 2})\n",
    "series_from_dict[~series_from_dict.isnull()] # filter for no nulls\n",
    "# alignment by label\n",
    "(series2, series3, series2*series3) # matches up by label, missing ones would be NaN\n",
    "\n",
    "# DataFrame\n",
    "series1.index = series2.index\n",
    "pd.DataFrame([series1, series2, series3]) # 3 rows, 4 columns\n",
    "df = pd.DataFrame([series1, series2, series3], columns=['label1', 'label4', 'missing']) # 3 rows, 3 columns\n",
    "# the rows can have their own index\n",
    "df.index = ['series1', 'series2', 'series3']\n",
    "df['label4']['series3'] = 1000 # changes df, but not the series. The row is a copy of the series\n",
    "# can also create df from dict of dicts\n",
    "df2 = pd.DataFrame({'col1': {'r1': 1, \n",
    "                             'r2': 2}, \n",
    "                    'col2': {'r1': 3, \n",
    "                             'r2': 4}})\n",
    "# Pandas data frame rows are a bit like R data frame columns\n",
    "df2.T # transpose\n",
    "# the same as dicts of series\n",
    "df3 = pd.DataFrame({'col1': pd.Series([1,2],['r1', 'r2']), \n",
    "                    'col2': [3,4]})\n",
    "df3.name = 'second variant'\n",
    "df2 == df3  # cell-wise comparison   \n",
    "df2.iloc[0] # The first row of df2\n",
    "df2.loc['r1'] # the first row by row label\n",
    "arr2x2 = np.arange(4).reshape(2,2).T+1 # an array that looks like df2\n",
    "arr2x2 + df2 # they can be added cell-wise, producing a data frame"
   ]
  }
 ],
 "metadata": {
  "kernelspec": {
   "display_name": "Python 3",
   "language": "python",
   "name": "python3"
  },
  "language_info": {
   "codemirror_mode": {
    "name": "ipython",
    "version": 3
   },
   "file_extension": ".py",
   "mimetype": "text/x-python",
   "name": "python",
   "nbconvert_exporter": "python",
   "pygments_lexer": "ipython3",
   "version": "3.6.1"
  }
 },
 "nbformat": 4,
 "nbformat_minor": 2
}
