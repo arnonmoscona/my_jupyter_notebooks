{
 "cells": [
  {
   "cell_type": "code",
   "execution_count": 1,
   "metadata": {},
   "outputs": [
    {
     "name": "stderr",
     "output_type": "stream",
     "text": [
      "/Users/arnonmoscona/envs/3.6.1-personal/lib/python3.6/site-packages/matplotlib/font_manager.py:279: UserWarning: Matplotlib is building the font cache using fc-list. This may take a moment.\n",
      "  'Matplotlib is building the font cache using fc-list. '\n"
     ]
    }
   ],
   "source": [
    "import numpy as np\n",
    "import matplotlib.pyplot as plt\n",
    "import pandas as pd\n",
    "import seaborn as sns\n",
    "import statsmodels as sm\n",
    "\n"
   ]
  },
  {
   "cell_type": "code",
   "execution_count": 71,
   "metadata": {},
   "outputs": [
    {
     "data": {
      "text/plain": [
       "(array([[-0.04105392,  0.20419207,  0.        ],\n",
       "        [-0.26196127, -1.77217176,  0.        ],\n",
       "        [ 0.99612465, -1.11770972,  0.        ]]),\n",
       " array([[-0.04105392,  0.20419207],\n",
       "        [-0.26196127, -1.77217176],\n",
       "        [ 0.99612465, -1.11770972]]),\n",
       " array([[-0.04105392,  0.20419207],\n",
       "        [-0.26196127, -1.77217176],\n",
       "        [ 0.99612465, -1.11770972]]))"
      ]
     },
     "execution_count": 71,
     "metadata": {},
     "output_type": "execute_result"
    }
   ],
   "source": [
    "data = np.random.randn(2,3)\n",
    "np.abs(np.round(data*10))\n",
    "np.array([[0,1],[1,0]])\n",
    "unit = np.diag(np.ones(3))\n",
    "#np.linalg.inv(data)\n",
    "sq_data = np.pad(data, ((0,1), (0,0)), mode='constant')\n",
    "\n",
    "data = np.transpose(sq_data)\n",
    "inv_sq = np.linalg.pinv(sq_data)\n",
    "\n",
    "\n",
    "data2 = np.random.randn(3,2)\n",
    "inv2 = np.linalg.pinv(data2) # pseudo inverse (for over-determined systems like learning)\n",
    "np.dot(inv2, data2) # verify\n",
    "\n",
    "def t(matrix):\n",
    "    return np.transpose(matrix)\n",
    "\n",
    "data, t(t(data)[:2]), data[:,:2]"
   ]
  }
 ],
 "metadata": {
  "kernelspec": {
   "display_name": "Python 3",
   "language": "python",
   "name": "python3"
  },
  "language_info": {
   "codemirror_mode": {
    "name": "ipython",
    "version": 3
   },
   "file_extension": ".py",
   "mimetype": "text/x-python",
   "name": "python",
   "nbconvert_exporter": "python",
   "pygments_lexer": "ipython3",
   "version": "3.6.1"
  }
 },
 "nbformat": 4,
 "nbformat_minor": 2
}
